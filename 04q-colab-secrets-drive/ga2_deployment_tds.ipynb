{
  "nbformat": 4,
  "nbformat_minor": 0,
  "metadata": {
    "colab": {
      "provenance": []
    },
    "kernelspec": {
      "name": "python3",
      "display_name": "Python 3"
    },
    "language_info": {
      "name": "python"
    }
  },
  "cells": [
    {
      "cell_type": "code",
      "execution_count": null,
      "metadata": {
        "colab": {
          "base_uri": "https://localhost:8080/"
        },
        "id": "6s237bO8eEZI",
        "outputId": "272b56ba-da99-4871-fd8d-393fc10c0e7d"
      },
      "outputs": [
        {
          "output_type": "stream",
          "name": "stdout",
          "text": [
            "Drive already mounted at /content/gdrive; to attempt to forcibly remount, call drive.mount(\"/content/gdrive\", force_remount=True).\n"
          ]
        }
      ],
      "source": [
        "from google.colab import drive, userdata\n",
        "import pandas as pd\n",
        "from pathlib import Path\n",
        "\n",
        "drive.mount(\"/content/gdrive\")\n",
        "api_token = userdata.get(\"GA2_API_KEY\")\n",
        "\n",
        "#----- fix the path -----#\n",
        "root = Path(\"/content/gdrive/MyDrive/ga2-deployment\")\n",
        "#------------------------#\n",
        "\n",
        "data = pd.read_csv(root / \"incident-metrics.csv\")\n",
        "# Calculate error_rate per window\n",
        "error_rate = data[\"failures\"] / data[\"requests\"]\n",
        "critical = data[error_rate > 0.02]"
      ]
    },
    {
      "cell_type": "code",
      "source": [
        "#----- As the instruction says -----#\n",
        "total = critical['failures'].sum()\n",
        "verification = f\"{api_token[-4:].upper()}-{total:03d}\"\n",
        "#-----------------------------------#\n",
        "print(verification)"
      ],
      "metadata": {
        "colab": {
          "base_uri": "https://localhost:8080/"
        },
        "id": "iZ5Wcr60eFEg",
        "outputId": "d6a0b28b-fd71-4fcd-f26a-e79c52e2f728"
      },
      "execution_count": null,
      "outputs": [
        {
          "output_type": "stream",
          "name": "stdout",
          "text": [
            "1580-1253\n"
          ]
        }
      ]
    },
    {
      "cell_type": "code",
      "source": [],
      "metadata": {
        "id": "A-nbOotFeFCN"
      },
      "execution_count": null,
      "outputs": []
    },
    {
      "cell_type": "code",
      "source": [],
      "metadata": {
        "id": "ckbsmsimfCP4"
      },
      "execution_count": null,
      "outputs": []
    }
  ]
}